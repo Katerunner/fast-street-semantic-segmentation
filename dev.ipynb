{
 "cells": [
  {
   "cell_type": "code",
   "execution_count": 6,
   "id": "1f4f6372-6ed1-4718-b46a-118505cee0c1",
   "metadata": {
    "pycharm": {
     "name": "#%%\n"
    }
   },
   "outputs": [],
   "source": [
    "import cv2\n",
    "import tqdm\n",
    "import numpy as np\n",
    "import pandas as pd\n",
    "import matplotlib.pyplot as plt\n",
    "import tensorflow as tf"
   ]
  },
  {
   "cell_type": "code",
   "execution_count": 7,
   "id": "aae0644e-03df-4c81-9a2d-a290d9c3cd48",
   "metadata": {
    "pycharm": {
     "name": "#%%\n"
    }
   },
   "outputs": [],
   "source": [
    "from models.mobilenet_unet import create_model"
   ]
  },
  {
   "cell_type": "code",
   "execution_count": 8,
   "id": "de72e2f8-609c-4337-bd1e-837aa5b088ac",
   "metadata": {
    "pycharm": {
     "name": "#%%\n"
    }
   },
   "outputs": [],
   "source": [
    "INPUT_SHAPE = (128, 128)"
   ]
  },
  {
   "cell_type": "code",
   "execution_count": 20,
   "id": "e12f01b6-8515-4f30-86c4-1bd2761036ad",
   "metadata": {
    "pycharm": {
     "name": "#%%\n"
    }
   },
   "outputs": [],
   "source": [
    "model = create_model(num_classes=50, down_stack_trainable=False, input_shape=(INPUT_SHAPE[0], INPUT_SHAPE[1], 3))"
   ]
  },
  {
   "cell_type": "code",
   "execution_count": 21,
   "id": "effd41be-de31-4608-9fca-0e3eb58f139b",
   "metadata": {
    "pycharm": {
     "name": "#%%\n"
    }
   },
   "outputs": [],
   "source": [
    "model.compile(optimizer='adam',\n",
    "              loss=tf.keras.losses.SparseCategoricalCrossentropy(from_logits=True),\n",
    "              metrics=['accuracy'])"
   ]
  },
  {
   "cell_type": "code",
   "execution_count": 14,
   "id": "7e405fcd-9f62-47b6-9b6a-a2e147c25cff",
   "metadata": {
    "tags": [],
    "pycharm": {
     "name": "#%%\n"
    }
   },
   "outputs": [
    {
     "name": "stderr",
     "output_type": "stream",
     "text": [
      "  1%|▉                                                                               | 52/4256 [00:03<04:06, 17.06it/s]"
     ]
    },
    {
     "name": "stdout",
     "output_type": "stream",
     "text": [
      "OpenCV(4.6.0) D:\\a\\opencv-python\\opencv-python\\opencv\\modules\\imgproc\\src\\resize.cpp:4052: error: (-215:Assertion failed) !ssize.empty() in function 'cv::resize'\n",
      "\n"
     ]
    },
    {
     "name": "stderr",
     "output_type": "stream",
     "text": [
      "  7%|█████▏                                                                         | 279/4256 [00:18<03:51, 17.16it/s]"
     ]
    },
    {
     "name": "stdout",
     "output_type": "stream",
     "text": [
      "OpenCV(4.6.0) D:\\a\\opencv-python\\opencv-python\\opencv\\modules\\imgproc\\src\\resize.cpp:4052: error: (-215:Assertion failed) !ssize.empty() in function 'cv::resize'\n",
      "\n"
     ]
    },
    {
     "name": "stderr",
     "output_type": "stream",
     "text": [
      " 12%|█████████▌                                                                     | 512/4256 [00:33<03:40, 17.00it/s]"
     ]
    },
    {
     "name": "stdout",
     "output_type": "stream",
     "text": [
      "OpenCV(4.6.0) D:\\a\\opencv-python\\opencv-python\\opencv\\modules\\imgproc\\src\\resize.cpp:4052: error: (-215:Assertion failed) !ssize.empty() in function 'cv::resize'\n",
      "\n"
     ]
    },
    {
     "name": "stderr",
     "output_type": "stream",
     "text": [
      " 20%|███████████████▌                                                               | 841/4256 [00:55<03:24, 16.66it/s]"
     ]
    },
    {
     "name": "stdout",
     "output_type": "stream",
     "text": [
      "OpenCV(4.6.0) D:\\a\\opencv-python\\opencv-python\\opencv\\modules\\imgproc\\src\\resize.cpp:4052: error: (-215:Assertion failed) !ssize.empty() in function 'cv::resize'\n",
      "\n"
     ]
    },
    {
     "name": "stderr",
     "output_type": "stream",
     "text": [
      " 22%|█████████████████▏                                                             | 926/4256 [01:01<03:08, 17.69it/s]"
     ]
    },
    {
     "name": "stdout",
     "output_type": "stream",
     "text": [
      "OpenCV(4.6.0) D:\\a\\opencv-python\\opencv-python\\opencv\\modules\\imgproc\\src\\resize.cpp:4052: error: (-215:Assertion failed) !ssize.empty() in function 'cv::resize'\n",
      "\n"
     ]
    },
    {
     "name": "stderr",
     "output_type": "stream",
     "text": [
      " 25%|███████████████████▊                                                          | 1079/4256 [01:11<03:15, 16.25it/s]"
     ]
    },
    {
     "name": "stdout",
     "output_type": "stream",
     "text": [
      "OpenCV(4.6.0) D:\\a\\opencv-python\\opencv-python\\opencv\\modules\\imgproc\\src\\resize.cpp:4052: error: (-215:Assertion failed) !ssize.empty() in function 'cv::resize'\n",
      "\n"
     ]
    },
    {
     "name": "stderr",
     "output_type": "stream",
     "text": [
      " 26%|████████████████████▏                                                         | 1104/4256 [01:13<03:18, 15.89it/s]"
     ]
    },
    {
     "name": "stdout",
     "output_type": "stream",
     "text": [
      "OpenCV(4.6.0) D:\\a\\opencv-python\\opencv-python\\opencv\\modules\\imgproc\\src\\resize.cpp:4052: error: (-215:Assertion failed) !ssize.empty() in function 'cv::resize'\n",
      "\n"
     ]
    },
    {
     "name": "stderr",
     "output_type": "stream",
     "text": [
      " 29%|███████████████████████                                                       | 1255/4256 [01:23<02:59, 16.75it/s]"
     ]
    },
    {
     "name": "stdout",
     "output_type": "stream",
     "text": [
      "OpenCV(4.6.0) D:\\a\\opencv-python\\opencv-python\\opencv\\modules\\imgproc\\src\\resize.cpp:4052: error: (-215:Assertion failed) !ssize.empty() in function 'cv::resize'\n",
      "\n"
     ]
    },
    {
     "name": "stderr",
     "output_type": "stream",
     "text": [
      " 33%|█████████████████████████▋                                                    | 1400/4256 [01:33<02:49, 16.87it/s]"
     ]
    },
    {
     "name": "stdout",
     "output_type": "stream",
     "text": [
      "OpenCV(4.6.0) D:\\a\\opencv-python\\opencv-python\\opencv\\modules\\imgproc\\src\\resize.cpp:4052: error: (-215:Assertion failed) !ssize.empty() in function 'cv::resize'\n",
      "\n"
     ]
    },
    {
     "name": "stderr",
     "output_type": "stream",
     "text": [
      " 72%|███████████████████████████████████████████████████████▉                      | 3054/4256 [03:23<01:12, 16.57it/s]"
     ]
    },
    {
     "name": "stdout",
     "output_type": "stream",
     "text": [
      "OpenCV(4.6.0) D:\\a\\opencv-python\\opencv-python\\opencv\\modules\\imgproc\\src\\resize.cpp:4052: error: (-215:Assertion failed) !ssize.empty() in function 'cv::resize'\n",
      "\n",
      "OpenCV(4.6.0) D:\\a\\opencv-python\\opencv-python\\opencv\\modules\\imgproc\\src\\resize.cpp:4052: error: (-215:Assertion failed) !ssize.empty() in function 'cv::resize'\n",
      "\n",
      "OpenCV(4.6.0) D:\\a\\opencv-python\\opencv-python\\opencv\\modules\\imgproc\\src\\resize.cpp:4052: error: (-215:Assertion failed) !ssize.empty() in function 'cv::resize'\n",
      "\n"
     ]
    },
    {
     "name": "stderr",
     "output_type": "stream",
     "text": [
      " 73%|████████████████████████████████████████████████████████▋                     | 3090/4256 [03:26<01:25, 13.57it/s]"
     ]
    },
    {
     "name": "stdout",
     "output_type": "stream",
     "text": [
      "OpenCV(4.6.0) D:\\a\\opencv-python\\opencv-python\\opencv\\modules\\imgproc\\src\\resize.cpp:4052: error: (-215:Assertion failed) !ssize.empty() in function 'cv::resize'\n",
      "\n"
     ]
    },
    {
     "name": "stderr",
     "output_type": "stream",
     "text": [
      "100%|██████████████████████████████████████████████████████████████████████████████| 4256/4256 [04:43<00:00, 14.99it/s]\n"
     ]
    }
   ],
   "source": [
    "guide = pd.read_csv('dataset/guide.csv')\n",
    "guide['image'] = [path.replace('WildDash2', 'dataset') for path in guide['image']]\n",
    "guide['mask'] = [path.replace('WildDash2', 'dataset') for path in guide['mask']]\n",
    "\n",
    "X_train = []\n",
    "y_train = []\n",
    "\n",
    "X_test = []\n",
    "y_test = []\n",
    "\n",
    "for i in tqdm.trange(len(guide), position=0, leave=True):\n",
    "    try:\n",
    "        sample_image_data = guide.iloc[i]\n",
    "        image = cv2.cvtColor(cv2.resize(cv2.imread(sample_image_data['image']), INPUT_SHAPE), cv2.COLOR_BGR2RGB)\n",
    "        label = cv2.resize(cv2.imread(sample_image_data['mask']), INPUT_SHAPE)[:, :, 0]\n",
    "        if sample_image_data['type'] == 'train':\n",
    "            X_train.append(image)\n",
    "            y_train.append(label)\n",
    "        else:\n",
    "            X_test.append(image)\n",
    "            y_test.append(label)\n",
    "    except Exception as a:\n",
    "        print(a)\n",
    "    \n",
    "X_train = np.array(X_train)\n",
    "y_train = np.array(y_train)\n",
    "X_test = np.array(X_test)\n",
    "y_test = np.array(y_test)"
   ]
  },
  {
   "cell_type": "code",
   "execution_count": 15,
   "id": "50f99a19-7732-4a8e-b833-774709db5de3",
   "metadata": {
    "pycharm": {
     "name": "#%%\n"
    }
   },
   "outputs": [
    {
     "data": {
      "text/plain": [
       "((3987, 128, 128, 3), (3987, 128, 128), (256, 128, 128, 3), (256, 128, 128))"
      ]
     },
     "execution_count": 15,
     "metadata": {},
     "output_type": "execute_result"
    }
   ],
   "source": [
    "X_train.shape, y_train.shape, X_test.shape, y_test.shape"
   ]
  },
  {
   "cell_type": "code",
   "execution_count": 22,
   "id": "e6c66e92-db13-49f3-9001-308931243157",
   "metadata": {
    "tags": [],
    "pycharm": {
     "name": "#%%\n"
    }
   },
   "outputs": [
    {
     "name": "stdout",
     "output_type": "stream",
     "text": [
      "997/997 [==============================] - 470s 467ms/step - loss: 1.6996 - accuracy: 0.5471 - val_loss: 1.5568 - val_accuracy: 0.5958\n"
     ]
    },
    {
     "data": {
      "text/plain": [
       "<keras.callbacks.History at 0x21faf14a5e0>"
      ]
     },
     "execution_count": 22,
     "metadata": {},
     "output_type": "execute_result"
    }
   ],
   "source": [
    "model.fit(X_train, y_train, batch_size=4, validation_data=(X_test, y_test))"
   ]
  },
  {
   "cell_type": "code",
   "execution_count": 36,
   "id": "f08902c3-ca8e-4702-a651-ceb680e287c6",
   "metadata": {
    "pycharm": {
     "name": "#%%\n"
    }
   },
   "outputs": [
    {
     "name": "stdout",
     "output_type": "stream",
     "text": [
      "1/1 [==============================] - 0s 157ms/step\n"
     ]
    },
    {
     "data": {
      "text/plain": [
       "array([[[[-2.09492   , -1.0843532 ,  0.24630025, ..., -1.9062544 ,\n",
       "          -2.7908726 , -1.3028806 ],\n",
       "         [-3.25433   , -0.60190827, -0.12986234, ..., -0.7600022 ,\n",
       "          -3.068955  , -2.8449147 ],\n",
       "         [-3.4029245 , -3.0899348 , -1.3147129 , ...,  0.6113026 ,\n",
       "           0.22268131, -4.017443  ],\n",
       "         ...,\n",
       "         [-2.3775403 , -1.1007433 , -0.6034697 , ..., -0.43703842,\n",
       "          -3.3250177 , -3.3004284 ],\n",
       "         [-2.8164158 , -1.9442086 , -1.0359255 , ..., -3.8190818 ,\n",
       "          -3.7841208 , -2.5738187 ],\n",
       "         [-2.861057  , -1.272755  , -0.8355265 , ..., -0.38750473,\n",
       "          -3.8055289 , -3.7978072 ]],\n",
       "\n",
       "        [[-3.1267068 , -1.8322295 , -2.0711443 , ..., -0.6822454 ,\n",
       "          -1.2817748 , -2.9352558 ],\n",
       "         [-4.9592857 , -4.154821  , -1.7306267 , ..., -3.1393983 ,\n",
       "          -3.5517824 , -3.9509473 ],\n",
       "         [-6.0984435 , -3.9779909 , -3.7132595 , ..., -1.8994635 ,\n",
       "          -4.2977505 , -6.053833  ],\n",
       "         ...,\n",
       "         [-4.980432  , -4.0960636 , -2.015581  , ..., -3.2772193 ,\n",
       "          -3.433955  , -3.4049528 ],\n",
       "         [-6.14919   , -3.765455  , -3.2562633 , ..., -1.6105126 ,\n",
       "          -3.8158038 , -5.540244  ],\n",
       "         [-5.3994374 , -4.0327063 , -1.9007962 , ..., -3.7580957 ,\n",
       "          -3.3952641 , -4.438838  ]],\n",
       "\n",
       "        [[-3.6972513 , -2.011348  , -2.4220655 , ..., -2.623764  ,\n",
       "          -1.9762967 , -4.9331064 ],\n",
       "         [-6.714447  , -2.7689238 , -1.6920688 , ..., -2.4681458 ,\n",
       "          -3.8150067 , -3.7456505 ],\n",
       "         [-5.8095255 , -2.353897  , -1.3123382 , ..., -6.223235  ,\n",
       "          -6.0961757 , -7.180621  ],\n",
       "         ...,\n",
       "         [-6.8912506 , -3.075947  , -2.1255844 , ..., -1.2967554 ,\n",
       "          -3.4010656 , -4.6048145 ],\n",
       "         [-5.5918574 , -4.541986  , -2.1824656 , ..., -4.3528666 ,\n",
       "          -4.5508347 , -7.3913546 ],\n",
       "         [-6.0629497 , -3.263506  , -2.0114584 , ..., -2.9517224 ,\n",
       "          -2.83761   , -3.304501  ]],\n",
       "\n",
       "        ...,\n",
       "\n",
       "        [[-2.7188935 , -1.3344481 , -1.6372079 , ..., -3.7666016 ,\n",
       "          -2.6986008 , -3.8509884 ],\n",
       "         [-6.2164655 , -3.3742087 , -2.1703465 , ..., -2.519283  ,\n",
       "          -4.065763  , -3.5760226 ],\n",
       "         [-6.5425105 , -4.2260637 , -1.5495303 , ..., -4.324679  ,\n",
       "          -3.6862712 , -5.0558114 ],\n",
       "         ...,\n",
       "         [-5.8567085 , -3.3393033 , -1.7013619 , ..., -2.0874593 ,\n",
       "          -3.6103604 , -3.595029  ],\n",
       "         [-5.997185  , -4.00214   , -2.509597  , ..., -3.9184642 ,\n",
       "          -3.0252225 , -6.877753  ],\n",
       "         [-6.06281   , -4.6259675 , -1.9270769 , ..., -3.1306765 ,\n",
       "          -4.1807337 , -4.1976247 ]],\n",
       "\n",
       "        [[-3.3776298 , -2.9922304 , -1.6404344 , ..., -0.8273487 ,\n",
       "          -1.3053292 , -5.925147  ],\n",
       "         [-7.3465953 , -2.461646  , -1.706284  , ..., -2.697349  ,\n",
       "          -3.068862  , -5.954467  ],\n",
       "         [-5.8689666 , -3.062653  , -0.8679605 , ..., -8.930458  ,\n",
       "          -7.298563  , -9.075481  ],\n",
       "         ...,\n",
       "         [-5.9593105 , -2.5180075 , -1.6123815 , ..., -1.1196043 ,\n",
       "          -2.1255095 , -4.885293  ],\n",
       "         [-7.4301496 , -4.289048  , -2.3068159 , ..., -4.923677  ,\n",
       "          -3.532166  , -9.017654  ],\n",
       "         [-7.20134   , -2.7860792 , -2.2171724 , ..., -1.8362654 ,\n",
       "          -4.647576  , -4.8740478 ]],\n",
       "\n",
       "        [[-3.7670581 , -3.0828805 , -1.8911626 , ..., -2.567536  ,\n",
       "          -3.1105516 , -3.3267183 ],\n",
       "         [-6.125511  , -3.811893  , -3.2587628 , ..., -2.0168617 ,\n",
       "          -3.8862376 , -3.9608119 ],\n",
       "         [-7.5423627 , -3.713485  , -1.1209188 , ..., -3.4727044 ,\n",
       "          -4.553089  , -6.4417415 ],\n",
       "         ...,\n",
       "         [-5.790341  , -3.716487  , -3.2608044 , ..., -2.1513968 ,\n",
       "          -3.9448647 , -3.9874754 ],\n",
       "         [-7.8066998 , -3.643433  , -2.134212  , ..., -1.712551  ,\n",
       "          -3.5556457 , -7.6409655 ],\n",
       "         [-7.1110854 , -4.8700786 , -3.8735714 , ..., -1.9943622 ,\n",
       "          -5.328758  , -5.885962  ]]]], dtype=float32)"
      ]
     },
     "execution_count": 36,
     "metadata": {},
     "output_type": "execute_result"
    }
   ],
   "source": [
    "model.predict(X_test[:1])"
   ]
  },
  {
   "cell_type": "code",
   "execution_count": null,
   "id": "74d2360a-7936-487b-864f-ab8483c4762b",
   "metadata": {
    "pycharm": {
     "name": "#%%\n"
    }
   },
   "outputs": [],
   "source": []
  }
 ],
 "metadata": {
  "kernelspec": {
   "display_name": "Python 3 (ipykernel)",
   "language": "python",
   "name": "python3"
  },
  "language_info": {
   "codemirror_mode": {
    "name": "ipython",
    "version": 3
   },
   "file_extension": ".py",
   "mimetype": "text/x-python",
   "name": "python",
   "nbconvert_exporter": "python",
   "pygments_lexer": "ipython3",
   "version": "3.9.13"
  }
 },
 "nbformat": 4,
 "nbformat_minor": 5
}